{
 "cells": [
  {
   "cell_type": "code",
   "execution_count": 10,
   "id": "d122e5b7-e56a-4715-800f-e4913dd0973b",
   "metadata": {},
   "outputs": [],
   "source": [
    "#!pip install translators"
   ]
  },
  {
   "cell_type": "code",
   "execution_count": 1,
   "id": "d349c9c8-5d23-45ee-b5bc-741291abeef4",
   "metadata": {},
   "outputs": [
    {
     "name": "stderr",
     "output_type": "stream",
     "text": [
      "Using Canada server backend.\n"
     ]
    }
   ],
   "source": [
    "import translators as ts\n",
    "\n",
    "ts.google\n",
    "\n",
    "#the following line gives us a dictionary of keys for each included language, and\n",
    "#values representing what they may be translated into\n",
    "ts._google.language_map"
   ]
  },
  {
   "cell_type": "code",
   "execution_count": 2,
   "id": "027e9925-9283-4069-b529-b3017d4926fd",
   "metadata": {},
   "outputs": [
    {
     "data": {
      "text/plain": [
       "'Это предложение скоро будет переведено на русский язык!'"
      ]
     },
     "execution_count": 2,
     "metadata": {},
     "output_type": "execute_result"
    }
   ],
   "source": [
    "#translating a single sentence\n",
    "phrase = 'This sentence will soon be translated into Russian!'\n",
    "ts.google(phrase, from_language = 'en', to_language = 'ru')"
   ]
  },
  {
   "cell_type": "code",
   "execution_count": 3,
   "id": "e585d1bd-f434-420f-aa5f-74386c0bc04a",
   "metadata": {},
   "outputs": [
    {
     "data": {
      "text/plain": [
       "'Эта женщина очень интересна'"
      ]
     },
     "execution_count": 3,
     "metadata": {},
     "output_type": "execute_result"
    }
   ],
   "source": [
    "#translating a sentence I know to see how accurate it is\n",
    "phrase = 'This woman is very interesting'\n",
    "ts.google(phrase, from_language = 'en', to_language = 'ru')"
   ]
  },
  {
   "cell_type": "code",
   "execution_count": 4,
   "id": "5a366339-1e31-475b-bd04-b3a55c7e62a1",
   "metadata": {},
   "outputs": [
    {
     "data": {
      "text/plain": [
       "'This woman is very interesting'"
      ]
     },
     "execution_count": 4,
     "metadata": {},
     "output_type": "execute_result"
    }
   ],
   "source": [
    "#translating it back to english\n",
    "rus_phrase = 'Эта женщина очень интересная'\n",
    "ts.google(rus_phrase)"
   ]
  },
  {
   "cell_type": "code",
   "execution_count": 5,
   "id": "6f27ddee-b557-4884-8708-dfa70a3f74f9",
   "metadata": {},
   "outputs": [],
   "source": [
    "#I read war and peace a couple months ago and I also have a PDF version of the\n",
    "#original russian text -- I want to batch translate the english versiont to see\n",
    "#if it matches the russian, and then translate the Russian to see the differences\n",
    "#in interpretation\n",
    "\n",
    "eng_corpus = ['So spoke, in July 1805, the renowned Anna Pavlovna Scherer, maid of honor and intimate of the empress Maria Feodorovna, greeting the important and high-ranking Prince Vassily, the first to arrive at her soirée.',\n",
    "              'Anna Pavlovna had been coughing for several days.',\n",
    "              'She had the grippe, as she put it (grippe was a new word then, used only by rare people).',\n",
    "              'Little notes had been sent out that morning with a red-liveried footman, and on all of them without distinction there was written:']\n",
    "\n",
    "russian = [ts.google(phrase, from_language = 'en', to_language = 'ru') for phrase in eng_corpus]"
   ]
  },
  {
   "cell_type": "code",
   "execution_count": 6,
   "id": "359e246d-ad4f-4685-b960-337f80c44cc2",
   "metadata": {},
   "outputs": [
    {
     "name": "stdout",
     "output_type": "stream",
     "text": [
      "['Так говорил, в июле 1805 года известная Анна Павловна Шерер, фрейлина и интимная императрица Мария Феодоровна, приветствуя важного и высокопоставленного принца, первого, первого, прибывшего в ее вечер.', 'Анна Павловна кашляла в течение нескольких дней.', 'У нее был грипп, как она выразилась (Грипп был новым словом, использованным только редкими людьми).', 'В то утро было отправлено небольшими заметками с красным пехотинцем, и на всех их без различия было написано:']\n"
     ]
    }
   ],
   "source": [
    "print(russian)"
   ]
  },
  {
   "cell_type": "code",
   "execution_count": 9,
   "id": "1e4de755-ce7d-495d-a4bc-6cf48b324aac",
   "metadata": {},
   "outputs": [
    {
     "name": "stdin",
     "output_type": "stream",
     "text": [
      "Please enter a phrase you would like to translate:  Hello, my name is Paige. It's very nice to meet you\n"
     ]
    },
    {
     "name": "stdout",
     "output_type": "stream",
     "text": [
      "Здравствуйте, меня зовут Пейдж. Очень приятно познакомиться\n"
     ]
    }
   ],
   "source": [
    "#function to take input phrase and translate\n",
    "\n",
    "def translateRussian():\n",
    "    translation_phrase = input('Please enter a phrase you would like to translate: ')\n",
    "    for word in translation_phrase:\n",
    "        translated_phrase = ts.google(translation_phrase, from_langauge = 'en', to_language = 'ru')\n",
    "        print(translated_phrase)\n",
    "        break\n",
    "translateRussian()"
   ]
  },
  {
   "cell_type": "code",
   "execution_count": 45,
   "id": "579aeb87-333a-4a2d-a417-7b709fb5f190",
   "metadata": {},
   "outputs": [],
   "source": [
    "#!pip install PyPDF2"
   ]
  },
  {
   "cell_type": "code",
   "execution_count": 38,
   "id": "2097119a-8f15-4f8c-b0db-f64f5d922a1f",
   "metadata": {},
   "outputs": [
    {
     "name": "stdout",
     "output_type": "stream",
     "text": [
      "\tОна хорошо работает ми.\tShe has good footwork.\t206\t[sound:azuretts-10b4350d-f13cbc0c-12ab3f97-3eb1e34b-ac29a7c6.mp3]\t1.  . foot, body part located at the end of the leg; leg, one of the two or four limbs that support and move an animal or human; hoof, horny growth covering the feet of certain animals (horse, cow, etc.)\tона · хорошо · работать · \t\n",
      "считать\tТы так не считаешь?\t\"Don't you think so?\"\t207\t[sound:azuretts-c9c41f72-77e78846-585991f8-f938c8fb-72261b15.mp3]\t1. v. compute, calculate; count, enumerate; date, apply a date to; figure, think; repute, regard as\tты · так · не · считать\t\n",
      "дверь\tЗакрой за собой дверь.\tClose the door after you.\t211\t[sound:azuretts-d511e7c2-bb0fd8af-59cc4959-09512416-75d21907.mp3]\t1. дверь . door, entry\tзакрой · за · себя · дверь\t\n",
      "закон\tЗакон один для всех.\tThe law is the same for everyone.\t218\t[sound:azuretts-086e4468-f54d5e19-488093f8-f945517f-c38e42e5.mp3]\t1. закон . law, principle; enactment, legislation; statute, ordinance\tзакон · один · для · всех\t\n",
      "п\n"
     ]
    }
   ],
   "source": [
    "#function to practice my russian\n",
    "import re\n",
    "import random\n",
    "import fileinput\n",
    "import pandas as pd\n",
    "# global rus_text\n",
    "\n",
    "def practiceRussian():\n",
    "    \n",
    "    rus_text = []\n",
    "    \n",
    "    with open('rus_sentences.txt') as f:\n",
    "        rus_text = f.readlines()\n",
    "        # print(rus_text[:10])\n",
    "\n",
    "    for line in rus_text:\n",
    "        #rus_text.extend(line.strip()) #strip trailing spaces and newline\n",
    "        rus_text = ''.join([i for i in rus_text if not i.isdigit()]) #removing digits\n",
    "        rus_text = rus_text.replace('нога', '') #removing 'нога' at the beginning of each line\n",
    "        rus_text = rus_text.replace('<br>n', '')\n",
    "        rus_text = rus_text.replace('<br>n', '')\n",
    "        rus_text = rus_text.replace('<br>', '')\n",
    "        rus_text = rus_text.replace('(f)', '')\n",
    "        rus_text = rus_text.replace('(m)', '')\n",
    "    \n",
    "        print(rus_text[0:1000])\n",
    "        return\n",
    "\n",
    "practiceRussian()"
   ]
  },
  {
   "cell_type": "code",
   "execution_count": null,
   "id": "dcf497d9-c601-4e31-b9d5-e303d5e11c94",
   "metadata": {},
   "outputs": [],
   "source": []
  },
  {
   "cell_type": "code",
   "execution_count": null,
   "id": "71ecbcc5-2e8a-4dcc-9cf5-934de10757b6",
   "metadata": {},
   "outputs": [],
   "source": []
  }
 ],
 "metadata": {
  "kernelspec": {
   "display_name": "Python 3 (ipykernel)",
   "language": "python",
   "name": "python3"
  },
  "language_info": {
   "codemirror_mode": {
    "name": "ipython",
    "version": 3
   },
   "file_extension": ".py",
   "mimetype": "text/x-python",
   "name": "python",
   "nbconvert_exporter": "python",
   "pygments_lexer": "ipython3",
   "version": "3.8.12"
  }
 },
 "nbformat": 4,
 "nbformat_minor": 5
}
